{
 "cells": [
  {
   "cell_type": "code",
   "execution_count": 1,
   "metadata": {
    "collapsed": true
   },
   "outputs": [],
   "source": [
    "import collections\n",
    "from collections import OrderedDict"
   ]
  },
  {
   "cell_type": "code",
   "execution_count": 127,
   "metadata": {
    "collapsed": true
   },
   "outputs": [],
   "source": [
    "def keys():\n",
    "    keys = ('key', 'unique_key', 'title', 'abstract', 'author', 'date',\n",
    "            'journal', 'pages', 'labels', 'read', 'key_word', 'provenance',\n",
    "            'list_strategies')\n",
    "    return keys"
   ]
  },
  {
   "cell_type": "code",
   "execution_count": 128,
   "metadata": {
    "collapsed": true
   },
   "outputs": [],
   "source": [
    "reference = collections.namedtuple(\"Article\", keys())"
   ]
  },
  {
   "cell_type": "code",
   "execution_count": 129,
   "metadata": {
    "collapsed": false
   },
   "outputs": [],
   "source": [
    "paper1 = reference"
   ]
  },
  {
   "cell_type": "code",
   "execution_count": 2,
   "metadata": {
    "collapsed": true
   },
   "outputs": [],
   "source": [
    "import requests\n",
    "from arcas.tools import Api\n",
    "from xml.etree import ElementTree"
   ]
  },
  {
   "cell_type": "code",
   "execution_count": 32,
   "metadata": {
    "collapsed": true
   },
   "outputs": [],
   "source": [
    "url = 'http://api.plos.org/search?q=title:prisoner&rows=2&start=3'"
   ]
  },
  {
   "cell_type": "code",
   "execution_count": 68,
   "metadata": {
    "collapsed": true
   },
   "outputs": [],
   "source": [
    "wrong_url ='http://api.plos.org/search?q=title:prisoner+AND+rows=1+AND+start=1'"
   ]
  },
  {
   "cell_type": "code",
   "execution_count": 75,
   "metadata": {
    "collapsed": false
   },
   "outputs": [],
   "source": [
    "response = requests.get(url, stream=True, )"
   ]
  },
  {
   "cell_type": "code",
   "execution_count": 76,
   "metadata": {
    "collapsed": false
   },
   "outputs": [],
   "source": [
    "root = ElementTree.fromstring(response.text)"
   ]
  },
  {
   "cell_type": "code",
   "execution_count": 77,
   "metadata": {
    "collapsed": false
   },
   "outputs": [],
   "source": [
    "parent = root.getchildren()"
   ]
  },
  {
   "cell_type": "code",
   "execution_count": 78,
   "metadata": {
    "collapsed": false
   },
   "outputs": [
    {
     "data": {
      "text/plain": [
       "2"
      ]
     },
     "execution_count": 78,
     "metadata": {},
     "output_type": "execute_result"
    }
   ],
   "source": [
    "len(parent[0])"
   ]
  },
  {
   "cell_type": "code",
   "execution_count": 72,
   "metadata": {
    "collapsed": false
   },
   "outputs": [
    {
     "name": "stdout",
     "output_type": "stream",
     "text": [
      "['0', 'response', '0', '0.0'] None\n"
     ]
    }
   ],
   "source": [
    "for atr in parent[0].iter():\n",
    "    print(list(atr.attrib.values()), atr.text)"
   ]
  },
  {
   "cell_type": "code",
   "execution_count": 38,
   "metadata": {
    "collapsed": false
   },
   "outputs": [],
   "source": [
    "def xml_to_dict(branch):\n",
    "    \"\"\"Branch to dictionary\"\"\"\n",
    "    article = OrderedDict()\n",
    "    for i, at in enumerate(branch.iter()):\n",
    "        key = (list(at.attrib.values()) or [i])[0]\n",
    "        article[key] = at.text\n",
    "    return article"
   ]
  },
  {
   "cell_type": "code",
   "execution_count": 56,
   "metadata": {
    "collapsed": false
   },
   "outputs": [
    {
     "data": {
      "text/plain": [
       "OrderedDict([('74', None),\n",
       "             (1, None),\n",
       "             ('id', '10.1371/journal.pone.0080814'),\n",
       "             ('journal', 'PLoS ONE'),\n",
       "             ('eissn', '1932-6203'),\n",
       "             ('publication_date', '2013-12-12T00:00:00Z'),\n",
       "             ('article_type', 'Research Article'),\n",
       "             ('author_display', None),\n",
       "             (8, 'Iacopo Baussano'),\n",
       "             (9, 'Brian G. Williams'),\n",
       "             (10, 'Paul Nunn'),\n",
       "             (11, 'Marta Beggiato'),\n",
       "             (12, 'Ugo Fedeli'),\n",
       "             (13, 'Fabio Scano'),\n",
       "             ('abstract', None),\n",
       "             (15,\n",
       "              \"\\nA systematic review by Iacopo Baussano and colleagues synthesizes published research to show that improved tuberculosis (TB) control in prisons could significantly reduce the burden of TB both inside and outside prisons.\\nBackground: Transmission of tuberculosis (TB) in prisons has been reported worldwide to be much higher than that reported for the corresponding general population. Methods and Findings: A systematic review has been performed to assess the risk of incident latent tuberculosis infection (LTBI) and TB disease in prisons, as compared to the incidence in the corresponding local general population, and to estimate the fraction of TB in the general population attributable (PAF%) to transmission within prisons. Primary peer-reviewed studies have been searched to assess the incidence of LTBI and/or TB within prisons published until June 2010; both inmates and prison staff were considered. Studies, which were independently screened by two reviewers, were eligible for inclusion if they reported the incidence of LTBI and TB disease in prisons. Available data were collected from 23 studies out of 582 potentially relevant unique citations. Five studies from the US and one from Brazil were available to assess the incidence of LTBI in prisons, while 19 studies were available to assess the incidence of TB. The median estimated annual incidence rate ratio (IRR) for LTBI and TB were 26.4 (interquartile range [IQR]: 13.0–61.8) and 23.0 (IQR: 11.7–36.1), respectively. The median estimated fraction (PAF%) of tuberculosis in the general population attributable to the exposure in prisons for TB was 8.5% (IQR: 1.9%–17.9%) and 6.3% (IQR: 2.7%–17.2%) in high- and middle/low-income countries, respectively. Conclusions: The very high IRR and the substantial population attributable fraction show that much better TB control in prisons could potentially protect prisoners and staff from within-prison spread of TB and would significantly reduce the national burden of TB. Future studies should measure the impact of the conditions in prisons on TB transmission and assess the population attributable risk of prison-to-community spread. : Please see later in the article for the Editors' Summary Background: Every year, nearly 10 million people develop tuberculosis (TB)—a contagious bacterial infection usually of the lungs—and nearly two million people die from the disease. TB is caused by Mycobacterium tuberculosis, which spreads in airborne droplets when people with the disease cough or sneeze. Most people infected with M. tuberculosis never become ill—their immune system contains the infection. However, the bacteria remain dormant (latent) within the body, and a latent TB infection (LTBI) can cause active disease many years after the initial infection if host immunity declines. The symptoms of TB include a persistent cough, weight loss, and night sweats. Infection with M. tuberculosis can be diagnosed using the tuberculin skin test; tests for TB itself include chest X-rays and sputum cultures (in which bacteriologists try to grow M. tuberculosis from sputum samples, mucus brought up from the lungs by coughing). TB can usually be cured by taking several powerful antibiotics daily for several months. Why Was This Study Done?: Last century, global control efforts began to reduce the incidence (number of new cases in a population in a given time) and prevalence (the number of affected people in a population) of LTBI and TB in many countries. Now, the emergence of antibiotic-resistant bacterial strains is thwarting these efforts. Consequently, it is important to identify settings where TB transmission is particularly high. One such setting is thought to be prisons. In these facilities, overcrowding, late case detection, inadequate treatment, and poor implementation of infection control measures (including incomplete segregation of people with active TB) might increase the TB transmission rate. However, it is not known how many people in prison become infected with M. tuberculosis or develop TB each year compared to the general population nor what percentage of LTBI and TB in the general population is attributable to exposure to M. tuberculosis in prison (the population attributable fraction or PAF%). Here, the researchers undertake a systematic review (a study that uses predefined criteria to identify all the research on a given topic) to investigate the incidence of TB in prisons. What Did the Researchers Do and Find?: The researchers identified 23 studies that reported the incidence of LTBI and/or TB in prisons among both staff and prisoners. They estimated the incidence of TB in relevant general populations using World Health Organization data; estimates of the incidence of LTBI in the general population came from the studies themselves. The researchers then calculated the ratio between the incidence rates for LTBI and TB in prison and in the general population (incidence rate ratios or IRRs) for each study. For both LTBI and TB, the IRR varied widely between studies. The average IRR for LTBI was 26.4. That is, the average incidence of LTBI in prisons was 26.4 times higher than in the general population; the average IRR for TB was 23.0. The researchers also estimated the fraction of TB in the general population attributable to within-prison exposure to M. tuberculosis for each study. Again, there was considerable heterogeneity between the studies but, on average, the PAF% for TB in high-income countries was 8.5% (that is, one in 11 cases of TB in the general population was attributable to within-prison spread of TB); in middle-to-low–income countries, the average PAF% was 6.3%. What Do These Findings Mean?: These findings suggest that the risk of LTBI and TB is at least an order of magnitude higher in prisons than in the general population and that the within-prison spread of LTBI and TB is likely to substantially affect the incidence of LTBI and TB in the general population. The accuracy and generalizability of these findings are limited by the small number of studies identified, by the relative paucity of studies from countries other than the USA, by study heterogeneity, and by assumptions made in the calculation of PAF%. Even so, these findings suggest that improvements in TB control in prisons would not only help to protect prisoners and staff from within-prison spread of TB but would also reduce national TB burdens. Further studies are now needed to identify the specific conditions in prisons that influence TB transmission so that rational policies can be developed to improve TB control in correctional facilities. Additional Information: Please access these Web sites via the online version of this summary at http://dx.doi.org/10.1371/journal.pmed.1000381. \"),\n",
       "             ('title_display',\n",
       "              \"Forgiver Triumphs in Alternating Prisoner's Dilemma\"),\n",
       "             ('score', '4.8120494'),\n",
       "             (18, None),\n",
       "             (25, 'Benjamin M. Zagorsky'),\n",
       "             (26, 'Johannes G. Reiter'),\n",
       "             (27, 'Krishnendu Chatterjee'),\n",
       "             (28, 'Martin A. Nowak'),\n",
       "             (30,\n",
       "              \"\\nCooperative behavior, where one individual incurs a cost to help another, is a wide spread phenomenon. Here we study direct reciprocity in the context of the alternating Prisoner's Dilemma. We consider all strategies that can be implemented by one and two-state automata. We calculate the payoff matrix of all pairwise encounters in the presence of noise. We explore deterministic selection dynamics with and without mutation. Using different error rates and payoff values, we observe convergence to a small number of distinct equilibria. Two of them are uncooperative strict Nash equilibria representing always-defect (ALLD) and Grim. The third equilibrium is mixed and represents a cooperative alliance of several strategies, dominated by a strategy which we call Forgiver. Forgiver cooperates whenever the opponent has cooperated; it defects once when the opponent has defected, but subsequently Forgiver attempts to re-establish cooperation even if the opponent has defected again. Forgiver is not an evolutionarily stable strategy, but the alliance, which it rules, is asymptotically stable. For a wide range of parameter values the most commonly observed outcome is convergence to the mixed equilibrium, dominated by Forgiver. Our results show that although forgiving might incur a short-term loss it can lead to a long-term gain. Forgiveness facilitates stable cooperation in the presence of exploitation and noise.\\n\")])"
      ]
     },
     "execution_count": 56,
     "metadata": {},
     "output_type": "execute_result"
    }
   ],
   "source": [
    "article = xml_to_dict(parent[0])\n",
    "article"
   ]
  },
  {
   "cell_type": "code",
   "execution_count": 91,
   "metadata": {
    "collapsed": false
   },
   "outputs": [
    {
     "data": {
      "text/plain": [
       "[\"\\nA systematic review by Iacopo Baussano and colleagues synthesizes published research to show that improved tuberculosis (TB) control in prisons could significantly reduce the burden of TB both inside and outside prisons.\\nBackground: Transmission of tuberculosis (TB) in prisons has been reported worldwide to be much higher than that reported for the corresponding general population. Methods and Findings: A systematic review has been performed to assess the risk of incident latent tuberculosis infection (LTBI) and TB disease in prisons, as compared to the incidence in the corresponding local general population, and to estimate the fraction of TB in the general population attributable (PAF%) to transmission within prisons. Primary peer-reviewed studies have been searched to assess the incidence of LTBI and/or TB within prisons published until June 2010; both inmates and prison staff were considered. Studies, which were independently screened by two reviewers, were eligible for inclusion if they reported the incidence of LTBI and TB disease in prisons. Available data were collected from 23 studies out of 582 potentially relevant unique citations. Five studies from the US and one from Brazil were available to assess the incidence of LTBI in prisons, while 19 studies were available to assess the incidence of TB. The median estimated annual incidence rate ratio (IRR) for LTBI and TB were 26.4 (interquartile range [IQR]: 13.0–61.8) and 23.0 (IQR: 11.7–36.1), respectively. The median estimated fraction (PAF%) of tuberculosis in the general population attributable to the exposure in prisons for TB was 8.5% (IQR: 1.9%–17.9%) and 6.3% (IQR: 2.7%–17.2%) in high- and middle/low-income countries, respectively. Conclusions: The very high IRR and the substantial population attributable fraction show that much better TB control in prisons could potentially protect prisoners and staff from within-prison spread of TB and would significantly reduce the national burden of TB. Future studies should measure the impact of the conditions in prisons on TB transmission and assess the population attributable risk of prison-to-community spread. : Please see later in the article for the Editors' Summary Background: Every year, nearly 10 million people develop tuberculosis (TB)—a contagious bacterial infection usually of the lungs—and nearly two million people die from the disease. TB is caused by Mycobacterium tuberculosis, which spreads in airborne droplets when people with the disease cough or sneeze. Most people infected with M. tuberculosis never become ill—their immune system contains the infection. However, the bacteria remain dormant (latent) within the body, and a latent TB infection (LTBI) can cause active disease many years after the initial infection if host immunity declines. The symptoms of TB include a persistent cough, weight loss, and night sweats. Infection with M. tuberculosis can be diagnosed using the tuberculin skin test; tests for TB itself include chest X-rays and sputum cultures (in which bacteriologists try to grow M. tuberculosis from sputum samples, mucus brought up from the lungs by coughing). TB can usually be cured by taking several powerful antibiotics daily for several months. Why Was This Study Done?: Last century, global control efforts began to reduce the incidence (number of new cases in a population in a given time) and prevalence (the number of affected people in a population) of LTBI and TB in many countries. Now, the emergence of antibiotic-resistant bacterial strains is thwarting these efforts. Consequently, it is important to identify settings where TB transmission is particularly high. One such setting is thought to be prisons. In these facilities, overcrowding, late case detection, inadequate treatment, and poor implementation of infection control measures (including incomplete segregation of people with active TB) might increase the TB transmission rate. However, it is not known how many people in prison become infected with M. tuberculosis or develop TB each year compared to the general population nor what percentage of LTBI and TB in the general population is attributable to exposure to M. tuberculosis in prison (the population attributable fraction or PAF%). Here, the researchers undertake a systematic review (a study that uses predefined criteria to identify all the research on a given topic) to investigate the incidence of TB in prisons. What Did the Researchers Do and Find?: The researchers identified 23 studies that reported the incidence of LTBI and/or TB in prisons among both staff and prisoners. They estimated the incidence of TB in relevant general populations using World Health Organization data; estimates of the incidence of LTBI in the general population came from the studies themselves. The researchers then calculated the ratio between the incidence rates for LTBI and TB in prison and in the general population (incidence rate ratios or IRRs) for each study. For both LTBI and TB, the IRR varied widely between studies. The average IRR for LTBI was 26.4. That is, the average incidence of LTBI in prisons was 26.4 times higher than in the general population; the average IRR for TB was 23.0. The researchers also estimated the fraction of TB in the general population attributable to within-prison exposure to M. tuberculosis for each study. Again, there was considerable heterogeneity between the studies but, on average, the PAF% for TB in high-income countries was 8.5% (that is, one in 11 cases of TB in the general population was attributable to within-prison spread of TB); in middle-to-low–income countries, the average PAF% was 6.3%. What Do These Findings Mean?: These findings suggest that the risk of LTBI and TB is at least an order of magnitude higher in prisons than in the general population and that the within-prison spread of LTBI and TB is likely to substantially affect the incidence of LTBI and TB in the general population. The accuracy and generalizability of these findings are limited by the small number of studies identified, by the relative paucity of studies from countries other than the USA, by study heterogeneity, and by assumptions made in the calculation of PAF%. Even so, these findings suggest that improvements in TB control in prisons would not only help to protect prisoners and staff from within-prison spread of TB but would also reduce national TB burdens. Further studies are now needed to identify the specific conditions in prisons that influence TB transmission so that rational policies can be developed to improve TB control in correctional facilities. Additional Information: Please access these Web sites via the online version of this summary at http://dx.doi.org/10.1371/journal.pmed.1000381. \"]"
      ]
     },
     "execution_count": 91,
     "metadata": {},
     "output_type": "execute_result"
    }
   ],
   "source": [
    "article['abstract']"
   ]
  },
  {
   "cell_type": "code",
   "execution_count": 63,
   "metadata": {
    "collapsed": false
   },
   "outputs": [
    {
     "data": {
      "text/plain": [
       "{'author_display': None,\n",
       " 1: None,\n",
       " 'abstract': None,\n",
       " 'article_type': 'Research Article',\n",
       " 8: 'Iacopo Baussano',\n",
       " 9: 'Brian G. Williams',\n",
       " 10: 'Paul Nunn',\n",
       " 11: 'Marta Beggiato',\n",
       " 12: 'Ugo Fedeli',\n",
       " 13: 'Fabio Scano',\n",
       " 'id': '10.1371/journal.pone.0080814',\n",
       " '74': None,\n",
       " 'publication_date': '2013-12-12T00:00:00Z',\n",
       " 15: \"\\nA systematic review by Iacopo Baussano and colleagues synthesizes published research to show that improved tuberculosis (TB) control in prisons could significantly reduce the burden of TB both inside and outside prisons.\\nBackground: Transmission of tuberculosis (TB) in prisons has been reported worldwide to be much higher than that reported for the corresponding general population. Methods and Findings: A systematic review has been performed to assess the risk of incident latent tuberculosis infection (LTBI) and TB disease in prisons, as compared to the incidence in the corresponding local general population, and to estimate the fraction of TB in the general population attributable (PAF%) to transmission within prisons. Primary peer-reviewed studies have been searched to assess the incidence of LTBI and/or TB within prisons published until June 2010; both inmates and prison staff were considered. Studies, which were independently screened by two reviewers, were eligible for inclusion if they reported the incidence of LTBI and TB disease in prisons. Available data were collected from 23 studies out of 582 potentially relevant unique citations. Five studies from the US and one from Brazil were available to assess the incidence of LTBI in prisons, while 19 studies were available to assess the incidence of TB. The median estimated annual incidence rate ratio (IRR) for LTBI and TB were 26.4 (interquartile range [IQR]: 13.0–61.8) and 23.0 (IQR: 11.7–36.1), respectively. The median estimated fraction (PAF%) of tuberculosis in the general population attributable to the exposure in prisons for TB was 8.5% (IQR: 1.9%–17.9%) and 6.3% (IQR: 2.7%–17.2%) in high- and middle/low-income countries, respectively. Conclusions: The very high IRR and the substantial population attributable fraction show that much better TB control in prisons could potentially protect prisoners and staff from within-prison spread of TB and would significantly reduce the national burden of TB. Future studies should measure the impact of the conditions in prisons on TB transmission and assess the population attributable risk of prison-to-community spread. : Please see later in the article for the Editors' Summary Background: Every year, nearly 10 million people develop tuberculosis (TB)—a contagious bacterial infection usually of the lungs—and nearly two million people die from the disease. TB is caused by Mycobacterium tuberculosis, which spreads in airborne droplets when people with the disease cough or sneeze. Most people infected with M. tuberculosis never become ill—their immune system contains the infection. However, the bacteria remain dormant (latent) within the body, and a latent TB infection (LTBI) can cause active disease many years after the initial infection if host immunity declines. The symptoms of TB include a persistent cough, weight loss, and night sweats. Infection with M. tuberculosis can be diagnosed using the tuberculin skin test; tests for TB itself include chest X-rays and sputum cultures (in which bacteriologists try to grow M. tuberculosis from sputum samples, mucus brought up from the lungs by coughing). TB can usually be cured by taking several powerful antibiotics daily for several months. Why Was This Study Done?: Last century, global control efforts began to reduce the incidence (number of new cases in a population in a given time) and prevalence (the number of affected people in a population) of LTBI and TB in many countries. Now, the emergence of antibiotic-resistant bacterial strains is thwarting these efforts. Consequently, it is important to identify settings where TB transmission is particularly high. One such setting is thought to be prisons. In these facilities, overcrowding, late case detection, inadequate treatment, and poor implementation of infection control measures (including incomplete segregation of people with active TB) might increase the TB transmission rate. However, it is not known how many people in prison become infected with M. tuberculosis or develop TB each year compared to the general population nor what percentage of LTBI and TB in the general population is attributable to exposure to M. tuberculosis in prison (the population attributable fraction or PAF%). Here, the researchers undertake a systematic review (a study that uses predefined criteria to identify all the research on a given topic) to investigate the incidence of TB in prisons. What Did the Researchers Do and Find?: The researchers identified 23 studies that reported the incidence of LTBI and/or TB in prisons among both staff and prisoners. They estimated the incidence of TB in relevant general populations using World Health Organization data; estimates of the incidence of LTBI in the general population came from the studies themselves. The researchers then calculated the ratio between the incidence rates for LTBI and TB in prison and in the general population (incidence rate ratios or IRRs) for each study. For both LTBI and TB, the IRR varied widely between studies. The average IRR for LTBI was 26.4. That is, the average incidence of LTBI in prisons was 26.4 times higher than in the general population; the average IRR for TB was 23.0. The researchers also estimated the fraction of TB in the general population attributable to within-prison exposure to M. tuberculosis for each study. Again, there was considerable heterogeneity between the studies but, on average, the PAF% for TB in high-income countries was 8.5% (that is, one in 11 cases of TB in the general population was attributable to within-prison spread of TB); in middle-to-low–income countries, the average PAF% was 6.3%. What Do These Findings Mean?: These findings suggest that the risk of LTBI and TB is at least an order of magnitude higher in prisons than in the general population and that the within-prison spread of LTBI and TB is likely to substantially affect the incidence of LTBI and TB in the general population. The accuracy and generalizability of these findings are limited by the small number of studies identified, by the relative paucity of studies from countries other than the USA, by study heterogeneity, and by assumptions made in the calculation of PAF%. Even so, these findings suggest that improvements in TB control in prisons would not only help to protect prisoners and staff from within-prison spread of TB but would also reduce national TB burdens. Further studies are now needed to identify the specific conditions in prisons that influence TB transmission so that rational policies can be developed to improve TB control in correctional facilities. Additional Information: Please access these Web sites via the online version of this summary at http://dx.doi.org/10.1371/journal.pmed.1000381. \",\n",
       " 'journal': 'PLoS ONE',\n",
       " 'title_display': \"Forgiver Triumphs in Alternating Prisoner's Dilemma\",\n",
       " 'eissn': '1932-6203'}"
      ]
     },
     "execution_count": 63,
     "metadata": {},
     "output_type": "execute_result"
    }
   ],
   "source": [
    "temp = [{}]\n",
    "for key in article:                          \n",
    "    if key == 'score':         \n",
    "        temp.append({})                         \n",
    "    else:                                           \n",
    "        temp[-1].update({key: article[key]})\n",
    "temp[0]"
   ]
  },
  {
   "cell_type": "code",
   "execution_count": 58,
   "metadata": {
    "collapsed": true
   },
   "outputs": [],
   "source": [
    "def get_authors_abstract(raw_data):\n",
    "    keys = list(raw_data.keys())\n",
    "    author_index = keys.index(\"author_display\")\n",
    "    abstract_index = keys.index(\"abstract\")\n",
    "    margin = keys[author_index + 1:abstract_index + 2]\n",
    "    authors = [raw_data.get(key) for key in margin[:-2]]\n",
    "    abstract = [raw_data.get(key) for key in margin[-1:]]\n",
    "    return authors, abstract"
   ]
  },
  {
   "cell_type": "code",
   "execution_count": 21,
   "metadata": {
    "collapsed": false
   },
   "outputs": [],
   "source": [
    "authors, abstract = get_authors_abstract(article)"
   ]
  },
  {
   "cell_type": "code",
   "execution_count": 67,
   "metadata": {
    "collapsed": false
   },
   "outputs": [
    {
     "data": {
      "text/plain": [
       "'4.8120494'"
      ]
     },
     "execution_count": 67,
     "metadata": {},
     "output_type": "execute_result"
    }
   ],
   "source": [
    "article['author'], article['key_word'], article['labels'], article[\n",
    "            'list_strategies'] = [], [], [], []\n",
    "\n",
    "list_authors, article['abstract'] = get_authors_abstract(article)\n",
    "for i in list_authors:\n",
    "    article['author'].append({'name': i})\n",
    "article['score']"
   ]
  },
  {
   "cell_type": "code",
   "execution_count": 80,
   "metadata": {
    "collapsed": false
   },
   "outputs": [
    {
     "name": "stdout",
     "output_type": "stream",
     "text": [
      "Irina Kareva\n"
     ]
    }
   ],
   "source": [
    "for i in authors:\n",
    "    print(i)"
   ]
  },
  {
   "cell_type": "code",
   "execution_count": 86,
   "metadata": {
    "collapsed": true
   },
   "outputs": [],
   "source": [
    "a_dict = {}"
   ]
  },
  {
   "cell_type": "code",
   "execution_count": 92,
   "metadata": {
    "collapsed": false
   },
   "outputs": [],
   "source": [
    "def keys():\n",
    "    keys = ['key', 'unique_key', 'title', 'abstract', 'author', 'date',\n",
    "            'journal', 'pages', 'labels', 'read', 'key_word', 'provenance',\n",
    "            'list_strategies']\n",
    "    return keys"
   ]
  },
  {
   "cell_type": "code",
   "execution_count": 97,
   "metadata": {
    "collapsed": false
   },
   "outputs": [
    {
     "ename": "TypeError",
     "evalue": "'list' object is not callable",
     "output_type": "error",
     "traceback": [
      "\u001b[0;31m------------------------------------------------\u001b[0m",
      "\u001b[0;31mTypeError\u001b[0m      Traceback (most recent call last)",
      "\u001b[0;32m<ipython-input-97-f551cce8a4a8>\u001b[0m in \u001b[0;36m<module>\u001b[0;34m()\u001b[0m\n\u001b[0;32m----> 1\u001b[0;31m \u001b[0mkeys\u001b[0m\u001b[0;34m(\u001b[0m\u001b[0;34m)\u001b[0m\u001b[0;34m.\u001b[0m\u001b[0mappend\u001b[0m\u001b[0;34m(\u001b[0m\u001b[0;34m'score'\u001b[0m\u001b[0;34m)\u001b[0m\u001b[0;34m\u001b[0m\u001b[0m\n\u001b[0m",
      "\u001b[0;31mTypeError\u001b[0m: 'list' object is not callable"
     ]
    }
   ],
   "source": [
    "keys().append('score')"
   ]
  },
  {
   "cell_type": "code",
   "execution_count": 94,
   "metadata": {
    "collapsed": false
   },
   "outputs": [
    {
     "data": {
      "text/plain": [
       "['key',\n",
       " 'unique_key',\n",
       " 'title',\n",
       " 'abstract',\n",
       " 'author',\n",
       " 'date',\n",
       " 'journal',\n",
       " 'pages',\n",
       " 'labels',\n",
       " 'read',\n",
       " 'key_word',\n",
       " 'provenance',\n",
       " 'list_strategies']"
      ]
     },
     "execution_count": 94,
     "metadata": {},
     "output_type": "execute_result"
    }
   ],
   "source": [
    "keys"
   ]
  },
  {
   "cell_type": "code",
   "execution_count": null,
   "metadata": {
    "collapsed": true
   },
   "outputs": [],
   "source": []
  }
 ],
 "metadata": {
  "anaconda-cloud": {},
  "kernelspec": {
   "display_name": "Python 3",
   "language": "python",
   "name": "python3"
  },
  "language_info": {
   "codemirror_mode": {
    "name": "ipython",
    "version": 3
   },
   "file_extension": ".py",
   "mimetype": "text/x-python",
   "name": "python",
   "nbconvert_exporter": "python",
   "pygments_lexer": "ipython3",
   "version": "3.5.2"
  }
 },
 "nbformat": 4,
 "nbformat_minor": 2
}
