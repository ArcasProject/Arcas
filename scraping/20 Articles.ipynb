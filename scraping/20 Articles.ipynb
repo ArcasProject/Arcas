{
 "cells": [
  {
   "cell_type": "code",
   "execution_count": 1,
   "metadata": {
    "collapsed": false
   },
   "outputs": [
    {
     "ename": "ImportError",
     "evalue": "No module named 'ratelimit'",
     "output_type": "error",
     "traceback": [
      "\u001b[0;31m-------------------------------------------------------------------\u001b[0m",
      "\u001b[0;31mImportError\u001b[0m                       Traceback (most recent call last)",
      "\u001b[0;32m<ipython-input-1-1a06de551241>\u001b[0m in \u001b[0;36m<module>\u001b[0;34m()\u001b[0m\n\u001b[1;32m      4\u001b[0m \u001b[0;32mimport\u001b[0m \u001b[0mxml\u001b[0m\u001b[0;34m.\u001b[0m\u001b[0metree\u001b[0m\u001b[0;34m.\u001b[0m\u001b[0mcElementTree\u001b[0m \u001b[0;32mas\u001b[0m \u001b[0mET\u001b[0m\u001b[0;34m\u001b[0m\u001b[0m\n\u001b[1;32m      5\u001b[0m \u001b[0;32mfrom\u001b[0m \u001b[0mcollections\u001b[0m \u001b[0;32mimport\u001b[0m \u001b[0mdefaultdict\u001b[0m\u001b[0;34m\u001b[0m\u001b[0m\n\u001b[0;32m----> 6\u001b[0;31m \u001b[0;32mfrom\u001b[0m \u001b[0mratelimit\u001b[0m \u001b[0;32mimport\u001b[0m \u001b[0;34m*\u001b[0m\u001b[0;34m\u001b[0m\u001b[0m\n\u001b[0m",
      "\u001b[0;31mImportError\u001b[0m: No module named 'ratelimit'"
     ]
    }
   ],
   "source": [
    "import requests\n",
    "import pandas as pd\n",
    "from xml.etree import ElementTree\n",
    "import xml.etree.cElementTree as ET\n",
    "from collections import defaultdict\n",
    "from ratelimit import *"
   ]
  },
  {
   "cell_type": "code",
   "execution_count": 33,
   "metadata": {
    "collapsed": true
   },
   "outputs": [],
   "source": [
    "from password import password\n",
    "import json"
   ]
  },
  {
   "cell_type": "code",
   "execution_count": 35,
   "metadata": {
    "collapsed": true
   },
   "outputs": [],
   "source": [
    "# url\n",
    "url ='http://ieeexplore.ieee.org/gateway/ipsSearch.jsp?ti=Prisoners&hc=10'"
   ]
  },
  {
   "cell_type": "code",
   "execution_count": 36,
   "metadata": {
    "collapsed": false
   },
   "outputs": [],
   "source": [
    "@rate_limited(1)\n",
    "def fetch_xml(url):\n",
    "    \"\"\"A function which creates the request to the API and returns the XML\n",
    "    file.\n",
    "    \"\"\"\n",
    "    response = requests.get(url, stream=True)\n",
    "\n",
    "    if response.status_code != 200:\n",
    "        raise APIError(response.status_code)\n",
    "\n",
    "    root = ET.parse(response.raw).getroot()\n",
    "    return root"
   ]
  },
  {
   "cell_type": "code",
   "execution_count": 37,
   "metadata": {
    "collapsed": true
   },
   "outputs": [],
   "source": [
    "root = fetch_xml(url)"
   ]
  },
  {
   "cell_type": "code",
   "execution_count": 38,
   "metadata": {
    "collapsed": true
   },
   "outputs": [],
   "source": [
    "def xml_to_dict(branch):\n",
    "    \"\"\"Branch to dictionary\"\"\"\n",
    "    article = defaultdict()\n",
    "    for at in branch.iter():\n",
    "        article.update({at.tag: at.text})\n",
    "\n",
    "    return article"
   ]
  },
  {
   "cell_type": "code",
   "execution_count": 83,
   "metadata": {
    "collapsed": false
   },
   "outputs": [],
   "source": [
    "def iee_to_axelbib(article):\n",
    "    \"\"\"A function which takes a dictionary with structure of the IEEE results\n",
    "    and transform it to a structure understandable by Axelbib\"\"\"\n",
    "    keys = ['key', 'title', 'abstract', 'author', 'date', 'journal', 'pages', 'labels', 'list_strategies']\n",
    "\n",
    "    article['author'] = []\n",
    "    for i in article['authors'].split(';  '):\n",
    "        article['author'].append({'name': i})\n",
    "    article['date'] = {'year': int(article['py'])}\n",
    "    article['journal'] = article.pop('pubtitle')\n",
    "    # article['notes'] = article.pop('pdf')\n",
    "    \n",
    "    first_name, last_name = article['author'][0]['name'].split(' ')\n",
    "    year = article['date']['year']\n",
    "    article['key'] = '{}{}'.format(last_name, year)\n",
    "    article['pages'], article['labels'], article['list_strategies'] = \"\", [], []\n",
    "\n",
    "    post = {key: article[key] for key in keys}\n",
    "    \n",
    "    return post"
   ]
  },
  {
   "cell_type": "code",
   "execution_count": 84,
   "metadata": {
    "collapsed": true
   },
   "outputs": [],
   "source": [
    "def post_to_axelbib(post):\n",
    "    \"\"\"A function for posting to Axelbib\"\"\"\n",
    "    url = 'http://127.0.0.1:8000/article/'\n",
    "    headers = {'Content-Type': 'application/json'}\n",
    "\n",
    "    r = requests.post(url, data=json.dumps(post),\n",
    "                      auth=('nikoleta', password), headers=headers)\n",
    "    return r.status_code"
   ]
  },
  {
   "cell_type": "code",
   "execution_count": 99,
   "metadata": {
    "collapsed": false
   },
   "outputs": [],
   "source": [
    "parents = root.getchildren()"
   ]
  },
  {
   "cell_type": "code",
   "execution_count": 100,
   "metadata": {
    "collapsed": false
   },
   "outputs": [],
   "source": [
    "for _ in range(2): parents.remove(parents[0])"
   ]
  },
  {
   "cell_type": "code",
   "execution_count": 101,
   "metadata": {
    "collapsed": false
   },
   "outputs": [
    {
     "data": {
      "text/plain": [
       "[<Element 'document' at 0x7fa013b65408>,\n",
       " <Element 'document' at 0x7fa013b6d048>,\n",
       " <Element 'document' at 0x7fa013b6d8b8>,\n",
       " <Element 'document' at 0x7fa013b70408>,\n",
       " <Element 'document' at 0x7fa013b70d68>,\n",
       " <Element 'document' at 0x7fa013b727c8>,\n",
       " <Element 'document' at 0x7fa013b75228>,\n",
       " <Element 'document' at 0x7fa013b75d68>,\n",
       " <Element 'document' at 0x7fa013b76a48>,\n",
       " <Element 'document' at 0x7fa013b7a5e8>]"
      ]
     },
     "execution_count": 101,
     "metadata": {},
     "output_type": "execute_result"
    }
   ],
   "source": [
    "parents"
   ]
  },
  {
   "cell_type": "code",
   "execution_count": 97,
   "metadata": {
    "collapsed": false
   },
   "outputs": [
    {
     "name": "stdout",
     "output_type": "stream",
     "text": [
      "201\n",
      "201\n"
     ]
    }
   ],
   "source": [
    "for document in parents:\n",
    "    article = xml_to_dict(document)\n",
    "    post = iee_to_axelbib(article)\n",
    "    send = post_to_axelbib(post)\n",
    "    \n",
    "    print(send)"
   ]
  },
  {
   "cell_type": "code",
   "execution_count": null,
   "metadata": {
    "collapsed": true
   },
   "outputs": [],
   "source": []
  }
 ],
 "metadata": {
  "anaconda-cloud": {},
  "kernelspec": {
   "display_name": "Python [conda env:api]",
   "language": "python",
   "name": "conda-env-api-py"
  }
 },
 "nbformat": 4,
 "nbformat_minor": 0
}
